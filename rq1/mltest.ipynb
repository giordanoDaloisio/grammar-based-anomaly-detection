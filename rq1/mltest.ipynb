{
 "cells": [
  {
   "cell_type": "code",
   "execution_count": 1,
   "metadata": {},
   "outputs": [],
   "source": [
    "import pandas as pd \n",
    "from sklearn.linear_model import LogisticRegression\n",
    "from sklearn.metrics import accuracy_score, precision_score, recall_score, f1_score, confusion_matrix\n",
    "from sklearn.model_selection import train_test_split\n",
    "import os"
   ]
  },
  {
   "cell_type": "markdown",
   "metadata": {},
   "source": [
    "## E Shopper"
   ]
  },
  {
   "cell_type": "code",
   "execution_count": 2,
   "metadata": {},
   "outputs": [
    {
     "name": "stderr",
     "output_type": "stream",
     "text": [
      "c:\\Users\\giord\\miniconda3\\envs\\icpe\\lib\\site-packages\\sklearn\\linear_model\\_logistic.py:469: ConvergenceWarning: lbfgs failed to converge (status=1):\n",
      "STOP: TOTAL NO. of ITERATIONS REACHED LIMIT.\n",
      "\n",
      "Increase the number of iterations (max_iter) or scale the data as shown in:\n",
      "    https://scikit-learn.org/stable/modules/preprocessing.html\n",
      "Please also refer to the documentation for alternative solver options:\n",
      "    https://scikit-learn.org/stable/modules/linear_model.html#logistic-regression\n",
      "  n_iter_i = _check_optimize_result(\n"
     ]
    }
   ],
   "source": [
    "train, test = train_test_split(os.listdir('../data/eshopper/'), test_size=0.2, random_state=42)\n",
    "train_data = pd.DataFrame()\n",
    "for file in train:\n",
    "    train_data = pd.concat([train_data, pd.read_csv('../data/eshopper/' + file)])\n",
    "test_data = pd.DataFrame()\n",
    "for file in test:\n",
    "    test_data = pd.concat([test_data, pd.read_csv('../data/eshopper/' + file)])\n",
    "model = LogisticRegression()\n",
    "model.fit(train_data.drop(columns='anomaly'), train_data['anomaly'])\n",
    "predictions = model.predict(test_data.drop(columns='anomaly'))"
   ]
  },
  {
   "cell_type": "code",
   "execution_count": 3,
   "metadata": {},
   "outputs": [
    {
     "name": "stdout",
     "output_type": "stream",
     "text": [
      "Accuracy: 0.9313881934318284\n",
      "Precision: 0.9317508751405326\n",
      "Recall: 0.9313881934318284\n",
      "F1 Score: 0.9309253576247258\n",
      "Confusion Matrix:\n",
      "[[174360     50     51]\n",
      " [    79  12574   8851]\n",
      " [   117   5815  16185]]\n"
     ]
    }
   ],
   "source": [
    "y_test = test_data['anomaly']\n",
    "y_pred = predictions\n",
    "\n",
    "# Accuracy\n",
    "accuracy = accuracy_score(y_test, y_pred)\n",
    "print(\"Accuracy:\", accuracy)\n",
    "\n",
    "# Precision\n",
    "precision = precision_score(y_test, y_pred, average=\"weighted\")\n",
    "print(\"Precision:\", precision)\n",
    "\n",
    "# Recall\n",
    "recall = recall_score(y_test, y_pred, average=\"weighted\")\n",
    "print(\"Recall:\", recall)\n",
    "\n",
    "# F1 Score\n",
    "f1 = f1_score(y_test, y_pred, average=\"weighted\")\n",
    "print(\"F1 Score:\", f1)\n",
    "\n",
    "# Confusion Matrix\n",
    "conf_matrix = confusion_matrix(y_test, y_pred)\n",
    "print(\"Confusion Matrix:\")\n",
    "print(conf_matrix)"
   ]
  },
  {
   "cell_type": "markdown",
   "metadata": {},
   "source": [
    "## Train Ticket"
   ]
  },
  {
   "cell_type": "code",
   "execution_count": 4,
   "metadata": {},
   "outputs": [
    {
     "name": "stderr",
     "output_type": "stream",
     "text": [
      "c:\\Users\\giord\\miniconda3\\envs\\icpe\\lib\\site-packages\\sklearn\\linear_model\\_logistic.py:469: ConvergenceWarning: lbfgs failed to converge (status=1):\n",
      "STOP: TOTAL NO. of ITERATIONS REACHED LIMIT.\n",
      "\n",
      "Increase the number of iterations (max_iter) or scale the data as shown in:\n",
      "    https://scikit-learn.org/stable/modules/preprocessing.html\n",
      "Please also refer to the documentation for alternative solver options:\n",
      "    https://scikit-learn.org/stable/modules/linear_model.html#logistic-regression\n",
      "  n_iter_i = _check_optimize_result(\n"
     ]
    }
   ],
   "source": [
    "train, test = train_test_split(\n",
    "    os.listdir(\"../data/trainticket/\"), test_size=0.2, random_state=42\n",
    ")\n",
    "train_data = pd.DataFrame()\n",
    "for file in train:\n",
    "    train_data = pd.concat([train_data, pd.read_csv(\"../data/trainticket/\" + file)])\n",
    "test_data = pd.DataFrame()\n",
    "for file in test:\n",
    "    test_data = pd.concat([test_data, pd.read_csv(\"../data/trainticket/\" + file)])\n",
    "model = LogisticRegression()\n",
    "model.fit(train_data.drop(columns=\"anomaly\"), train_data[\"anomaly\"])\n",
    "predictions = model.predict(test_data.drop(columns=\"anomaly\"))"
   ]
  },
  {
   "cell_type": "code",
   "execution_count": 5,
   "metadata": {},
   "outputs": [
    {
     "name": "stdout",
     "output_type": "stream",
     "text": [
      "Accuracy: 0.880412204158484\n",
      "Precision: 0.8624082866403151\n",
      "Recall: 0.880412204158484\n",
      "F1 Score: 0.8686408576873943\n",
      "Confusion Matrix:\n",
      "[[196438   1991   1242]\n",
      " [  9195   7056   7503]\n",
      " [  4240   5363  13937]]\n"
     ]
    }
   ],
   "source": [
    "y_test = test_data[\"anomaly\"]\n",
    "y_pred = predictions\n",
    "\n",
    "# Accuracy\n",
    "accuracy = accuracy_score(y_test, y_pred)\n",
    "print(\"Accuracy:\", accuracy)\n",
    "\n",
    "# Precision\n",
    "precision = precision_score(y_test, y_pred, average=\"weighted\")\n",
    "print(\"Precision:\", precision)\n",
    "\n",
    "# Recall\n",
    "recall = recall_score(y_test, y_pred, average=\"weighted\")\n",
    "print(\"Recall:\", recall)\n",
    "\n",
    "# F1 Score\n",
    "f1 = f1_score(y_test, y_pred, average=\"weighted\")\n",
    "print(\"F1 Score:\", f1)\n",
    "\n",
    "# Confusion Matrix\n",
    "conf_matrix = confusion_matrix(y_test, y_pred)\n",
    "print(\"Confusion Matrix:\")\n",
    "print(conf_matrix)"
   ]
  }
 ],
 "metadata": {
  "kernelspec": {
   "display_name": "bias",
   "language": "python",
   "name": "python3"
  },
  "language_info": {
   "codemirror_mode": {
    "name": "ipython",
    "version": 3
   },
   "file_extension": ".py",
   "mimetype": "text/x-python",
   "name": "python",
   "nbconvert_exporter": "python",
   "pygments_lexer": "ipython3",
   "version": "3.10.13"
  }
 },
 "nbformat": 4,
 "nbformat_minor": 2
}
