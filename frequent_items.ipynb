{
 "cells": [
  {
   "cell_type": "code",
   "execution_count": 22,
   "metadata": {},
   "outputs": [],
   "source": [
    "import pandas as pd\n",
    "import numpy as np\n",
    "import os\n",
    "from pyts.approximation import SymbolicAggregateApproximation\n",
    "from sklearn.model_selection import train_test_split\n",
    "from sklearn.preprocessing import StandardScaler"
   ]
  },
  {
   "cell_type": "code",
   "execution_count": 23,
   "metadata": {},
   "outputs": [],
   "source": [
    "train, test = train_test_split(\n",
    "    os.listdir(\"data/eshopper/\"), test_size=0.2, random_state=42\n",
    ")"
   ]
  },
  {
   "cell_type": "code",
   "execution_count": 24,
   "metadata": {},
   "outputs": [],
   "source": [
    "train_data = pd.DataFrame()\n",
    "for file in train:\n",
    "    train_data = pd.concat([train_data, pd.read_csv('data/eshopper/'+file)])\n"
   ]
  },
  {
   "cell_type": "code",
   "execution_count": 25,
   "metadata": {},
   "outputs": [],
   "source": [
    "test_data = pd.DataFrame()\n",
    "for file in test:\n",
    "  test_data = pd.concat([test_data, pd.read_csv('data/eshopper/'+file)])"
   ]
  },
  {
   "cell_type": "code",
   "execution_count": 26,
   "metadata": {},
   "outputs": [],
   "source": [
    "trans = SymbolicAggregateApproximation(n_bins=4)"
   ]
  },
  {
   "cell_type": "code",
   "execution_count": 27,
   "metadata": {},
   "outputs": [],
   "source": [
    "scaler = StandardScaler()\n",
    "train_data_scaled = scaler.fit_transform(train_data.drop(columns=['anomaly']))"
   ]
  },
  {
   "cell_type": "code",
   "execution_count": 28,
   "metadata": {},
   "outputs": [
    {
     "name": "stderr",
     "output_type": "stream",
     "text": [
      "c:\\Users\\giord\\miniconda3\\envs\\icpe\\lib\\site-packages\\pyts\\preprocessing\\discretizer.py:168: UserWarning: Some quantiles are equal. The number of bins will be smaller for sample [1 2 5 6]. Consider decreasing the number of bins or removing these samples.\n",
      "  warn(\"Some quantiles are equal. The number of bins will \"\n"
     ]
    }
   ],
   "source": [
    "sax_data_train = trans.fit_transform(train_data_scaled.T).T"
   ]
  },
  {
   "cell_type": "code",
   "execution_count": 29,
   "metadata": {},
   "outputs": [],
   "source": [
    "test_data_sc = scaler.transform(test_data.drop(columns=['anomaly']))"
   ]
  },
  {
   "cell_type": "code",
   "execution_count": 30,
   "metadata": {},
   "outputs": [
    {
     "name": "stderr",
     "output_type": "stream",
     "text": [
      "c:\\Users\\giord\\miniconda3\\envs\\icpe\\lib\\site-packages\\pyts\\preprocessing\\discretizer.py:168: UserWarning: Some quantiles are equal. The number of bins will be smaller for sample [2 5 6]. Consider decreasing the number of bins or removing these samples.\n",
      "  warn(\"Some quantiles are equal. The number of bins will \"\n"
     ]
    }
   ],
   "source": [
    "sax_data_test = trans.transform(test_data_sc.T).T"
   ]
  },
  {
   "cell_type": "code",
   "execution_count": 31,
   "metadata": {},
   "outputs": [],
   "source": [
    "sax_data_train = sax_data_train[train_data['anomaly'] == 0]\n",
    "sax_data_train = np.apply_along_axis(lambda x: ''.join(x), 1, sax_data_train)"
   ]
  },
  {
   "cell_type": "code",
   "execution_count": 32,
   "metadata": {},
   "outputs": [],
   "source": [
    "sax_data_test = np.apply_along_axis(lambda x: ''.join(x), 1, sax_data_test)"
   ]
  },
  {
   "cell_type": "code",
   "execution_count": 33,
   "metadata": {},
   "outputs": [],
   "source": [
    "string, count = np.unique(sax_data_train, return_counts=True)\n",
    "df_train = pd.DataFrame({'string': string, 'count': count})"
   ]
  },
  {
   "cell_type": "code",
   "execution_count": 34,
   "metadata": {},
   "outputs": [],
   "source": [
    "df_train.sort_values(by='count', ascending=False).to_csv('training_data.csv', index=False)"
   ]
  },
  {
   "cell_type": "code",
   "execution_count": 35,
   "metadata": {},
   "outputs": [],
   "source": [
    "df_test = pd.DataFrame({'string': sax_data_test, 'anomaly': test_data['anomaly']})"
   ]
  },
  {
   "cell_type": "code",
   "execution_count": 36,
   "metadata": {},
   "outputs": [],
   "source": [
    "df_test.to_csv('test_data.csv', index=False)"
   ]
  }
 ],
 "metadata": {
  "kernelspec": {
   "display_name": "icpe",
   "language": "python",
   "name": "python3"
  },
  "language_info": {
   "codemirror_mode": {
    "name": "ipython",
    "version": 3
   },
   "file_extension": ".py",
   "mimetype": "text/x-python",
   "name": "python",
   "nbconvert_exporter": "python",
   "pygments_lexer": "ipython3",
   "version": "3.10.13"
  }
 },
 "nbformat": 4,
 "nbformat_minor": 2
}
